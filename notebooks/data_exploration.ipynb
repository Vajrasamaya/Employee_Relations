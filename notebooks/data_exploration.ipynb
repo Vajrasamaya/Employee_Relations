{
 "cells": [
  {
   "cell_type": "code",
   "execution_count": 1,
   "metadata": {},
   "outputs": [],
   "source": [
    "# Import Packages\n",
    "\n",
    "# Array and Dataframe processing:\n",
    "import pandas as pd\n",
    "import numpy as np\n",
    "\n",
    "# Visualization:\n",
    "import seaborn as sns\n",
    "sns.set_style(\"darkgrid\")\n",
    "import matplotlib.pyplot as plt\n",
    "%matplotlib inline\n",
    "import plotly.graph_objects as go\n",
    "import plotly.express as px\n",
    "import plotly.figure_factory as ff"
   ]
  },
  {
   "cell_type": "code",
   "execution_count": 2,
   "metadata": {},
   "outputs": [
    {
     "data": {
      "text/html": [
       "<div>\n",
       "<style scoped>\n",
       "    .dataframe tbody tr th:only-of-type {\n",
       "        vertical-align: middle;\n",
       "    }\n",
       "\n",
       "    .dataframe tbody tr th {\n",
       "        vertical-align: top;\n",
       "    }\n",
       "\n",
       "    .dataframe thead th {\n",
       "        text-align: right;\n",
       "    }\n",
       "</style>\n",
       "<table border=\"1\" class=\"dataframe\">\n",
       "  <thead>\n",
       "    <tr style=\"text-align: right;\">\n",
       "      <th></th>\n",
       "      <th>Employeed ID</th>\n",
       "      <th>Department</th>\n",
       "      <th>Location</th>\n",
       "      <th>Position Level</th>\n",
       "      <th>Manager</th>\n",
       "      <th>Race</th>\n",
       "      <th>Gender</th>\n",
       "      <th>Issue</th>\n",
       "      <th>PIP Start</th>\n",
       "      <th>PIP End</th>\n",
       "      <th>Verbal Warning</th>\n",
       "      <th>Written Warning</th>\n",
       "      <th>Termination</th>\n",
       "      <th>Status</th>\n",
       "      <th>HR Staff</th>\n",
       "    </tr>\n",
       "  </thead>\n",
       "  <tbody>\n",
       "    <tr>\n",
       "      <th>0</th>\n",
       "      <td>1</td>\n",
       "      <td>Manufacturing</td>\n",
       "      <td>San Francisco</td>\n",
       "      <td>Professional</td>\n",
       "      <td>0.723952</td>\n",
       "      <td>Hispanic</td>\n",
       "      <td>Male</td>\n",
       "      <td>Theft</td>\n",
       "      <td>2010-04-10 00:00:00</td>\n",
       "      <td>2010-06-10 00:00:00</td>\n",
       "      <td>Yes</td>\n",
       "      <td>Yes</td>\n",
       "      <td>No</td>\n",
       "      <td>Open</td>\n",
       "      <td>HR Staff 2</td>\n",
       "    </tr>\n",
       "    <tr>\n",
       "      <th>1</th>\n",
       "      <td>2</td>\n",
       "      <td>Marketing</td>\n",
       "      <td>San Francisco</td>\n",
       "      <td>Professional</td>\n",
       "      <td>4.978255</td>\n",
       "      <td>Hispanic</td>\n",
       "      <td>Male</td>\n",
       "      <td>Performance</td>\n",
       "      <td>2010-03-15 00:00:00</td>\n",
       "      <td>2010-06-15 00:00:00</td>\n",
       "      <td>Yes</td>\n",
       "      <td>Yes</td>\n",
       "      <td>No</td>\n",
       "      <td>Open</td>\n",
       "      <td>HR Staff 5</td>\n",
       "    </tr>\n",
       "    <tr>\n",
       "      <th>2</th>\n",
       "      <td>3</td>\n",
       "      <td>Finance/Accounting</td>\n",
       "      <td>New York</td>\n",
       "      <td>Support</td>\n",
       "      <td>5.347443</td>\n",
       "      <td>Hispanic</td>\n",
       "      <td>Male</td>\n",
       "      <td>Performance</td>\n",
       "      <td>2010-04-01 00:00:00</td>\n",
       "      <td>2010-07-01 00:00:00</td>\n",
       "      <td>Yes</td>\n",
       "      <td>Yes</td>\n",
       "      <td>Yes</td>\n",
       "      <td>Open</td>\n",
       "      <td>HR Staff 4</td>\n",
       "    </tr>\n",
       "    <tr>\n",
       "      <th>3</th>\n",
       "      <td>4</td>\n",
       "      <td>IT</td>\n",
       "      <td>Miami</td>\n",
       "      <td>Professional</td>\n",
       "      <td>2.687382</td>\n",
       "      <td>Hispanic</td>\n",
       "      <td>Male</td>\n",
       "      <td>Performance</td>\n",
       "      <td>No</td>\n",
       "      <td>No</td>\n",
       "      <td>Yes</td>\n",
       "      <td>No</td>\n",
       "      <td>No</td>\n",
       "      <td>Open</td>\n",
       "      <td>HR Staff 5</td>\n",
       "    </tr>\n",
       "    <tr>\n",
       "      <th>4</th>\n",
       "      <td>5</td>\n",
       "      <td>IT</td>\n",
       "      <td>New York</td>\n",
       "      <td>Professional</td>\n",
       "      <td>0.723952</td>\n",
       "      <td>Hispanic</td>\n",
       "      <td>Male</td>\n",
       "      <td>Performance</td>\n",
       "      <td>2010-04-01 00:00:00</td>\n",
       "      <td>2010-07-01 00:00:00</td>\n",
       "      <td>Yes</td>\n",
       "      <td>No</td>\n",
       "      <td>No</td>\n",
       "      <td>Open</td>\n",
       "      <td>HR Staff 3</td>\n",
       "    </tr>\n",
       "  </tbody>\n",
       "</table>\n",
       "</div>"
      ],
      "text/plain": [
       "   Employeed ID          Department       Location Position Level   Manager  \\\n",
       "0             1       Manufacturing  San Francisco   Professional  0.723952   \n",
       "1             2           Marketing  San Francisco   Professional  4.978255   \n",
       "2             3  Finance/Accounting       New York        Support  5.347443   \n",
       "3             4                  IT          Miami   Professional  2.687382   \n",
       "4             5                  IT       New York   Professional  0.723952   \n",
       "\n",
       "       Race Gender        Issue            PIP Start              PIP End  \\\n",
       "0  Hispanic   Male        Theft  2010-04-10 00:00:00  2010-06-10 00:00:00   \n",
       "1  Hispanic   Male  Performance  2010-03-15 00:00:00  2010-06-15 00:00:00   \n",
       "2  Hispanic   Male  Performance  2010-04-01 00:00:00  2010-07-01 00:00:00   \n",
       "3  Hispanic   Male  Performance                   No                   No   \n",
       "4  Hispanic   Male  Performance  2010-04-01 00:00:00  2010-07-01 00:00:00   \n",
       "\n",
       "  Verbal Warning Written Warning Termination Status    HR Staff  \n",
       "0            Yes             Yes          No   Open  HR Staff 2  \n",
       "1            Yes             Yes          No   Open  HR Staff 5  \n",
       "2            Yes             Yes         Yes   Open  HR Staff 4  \n",
       "3            Yes              No          No   Open  HR Staff 5  \n",
       "4            Yes              No          No   Open  HR Staff 3  "
      ]
     },
     "execution_count": 2,
     "metadata": {},
     "output_type": "execute_result"
    }
   ],
   "source": [
    "df = pd.read_excel(\"../data/data_employee_relations.xls\")\n",
    "df.head()"
   ]
  },
  {
   "cell_type": "markdown",
   "metadata": {},
   "source": [
    "### Data Cleaning"
   ]
  },
  {
   "cell_type": "code",
   "execution_count": 3,
   "metadata": {},
   "outputs": [
    {
     "name": "stdout",
     "output_type": "stream",
     "text": [
      "<class 'pandas.core.frame.DataFrame'>\n",
      "RangeIndex: 100 entries, 0 to 99\n",
      "Data columns (total 15 columns):\n",
      " #   Column           Non-Null Count  Dtype  \n",
      "---  ------           --------------  -----  \n",
      " 0   Employeed ID     100 non-null    int64  \n",
      " 1   Department       100 non-null    object \n",
      " 2   Location         100 non-null    object \n",
      " 3   Position Level   100 non-null    object \n",
      " 4   Manager          100 non-null    float64\n",
      " 5   Race             100 non-null    object \n",
      " 6   Gender           100 non-null    object \n",
      " 7   Issue            100 non-null    object \n",
      " 8   PIP Start        100 non-null    object \n",
      " 9   PIP End          100 non-null    object \n",
      " 10  Verbal Warning   100 non-null    object \n",
      " 11  Written Warning  100 non-null    object \n",
      " 12  Termination      100 non-null    object \n",
      " 13  Status           100 non-null    object \n",
      " 14  HR Staff         100 non-null    object \n",
      "dtypes: float64(1), int64(1), object(13)\n",
      "memory usage: 11.8+ KB\n"
     ]
    }
   ],
   "source": [
    "# Checking column names, data types and null values\":\n",
    "df.info()"
   ]
  },
  {
   "cell_type": "code",
   "execution_count": 4,
   "metadata": {},
   "outputs": [
    {
     "data": {
      "text/plain": [
       "Employeed ID       0\n",
       "Department         0\n",
       "Location           0\n",
       "Position Level     0\n",
       "Manager            0\n",
       "Race               0\n",
       "Gender             0\n",
       "Issue              0\n",
       "PIP Start          0\n",
       "PIP End            0\n",
       "Verbal Warning     0\n",
       "Written Warning    0\n",
       "Termination        0\n",
       "Status             0\n",
       "HR Staff           0\n",
       "dtype: int64"
      ]
     },
     "execution_count": 4,
     "metadata": {},
     "output_type": "execute_result"
    }
   ],
   "source": [
    "df.isna().sum()"
   ]
  },
  {
   "cell_type": "markdown",
   "metadata": {},
   "source": [
    "There are no null-values and columns are appropriately named.  The data types for each column are correct with the exception of df[\"Manager\"]. This will be changed from a float to an int. "
   ]
  },
  {
   "cell_type": "code",
   "execution_count": 5,
   "metadata": {},
   "outputs": [],
   "source": [
    "df[\"Manager\"] = df[\"Manager\"].astype(\"int\")"
   ]
  },
  {
   "cell_type": "code",
   "execution_count": 6,
   "metadata": {},
   "outputs": [
    {
     "name": "stdout",
     "output_type": "stream",
     "text": [
      "<class 'pandas.core.frame.DataFrame'>\n",
      "RangeIndex: 100 entries, 0 to 99\n",
      "Data columns (total 15 columns):\n",
      " #   Column           Non-Null Count  Dtype \n",
      "---  ------           --------------  ----- \n",
      " 0   Employeed ID     100 non-null    int64 \n",
      " 1   Department       100 non-null    object\n",
      " 2   Location         100 non-null    object\n",
      " 3   Position Level   100 non-null    object\n",
      " 4   Manager          100 non-null    int64 \n",
      " 5   Race             100 non-null    object\n",
      " 6   Gender           100 non-null    object\n",
      " 7   Issue            100 non-null    object\n",
      " 8   PIP Start        100 non-null    object\n",
      " 9   PIP End          100 non-null    object\n",
      " 10  Verbal Warning   100 non-null    object\n",
      " 11  Written Warning  100 non-null    object\n",
      " 12  Termination      100 non-null    object\n",
      " 13  Status           100 non-null    object\n",
      " 14  HR Staff         100 non-null    object\n",
      "dtypes: int64(2), object(13)\n",
      "memory usage: 11.8+ KB\n"
     ]
    }
   ],
   "source": [
    "# checking data types again:\n",
    "df.info()"
   ]
  },
  {
   "cell_type": "code",
   "execution_count": null,
   "metadata": {},
   "outputs": [],
   "source": []
  },
  {
   "cell_type": "code",
   "execution_count": null,
   "metadata": {},
   "outputs": [],
   "source": []
  }
 ],
 "metadata": {
  "kernelspec": {
   "display_name": "Python 3",
   "language": "python",
   "name": "python3"
  },
  "language_info": {
   "codemirror_mode": {
    "name": "ipython",
    "version": 3
   },
   "file_extension": ".py",
   "mimetype": "text/x-python",
   "name": "python",
   "nbconvert_exporter": "python",
   "pygments_lexer": "ipython3",
   "version": "3.7.6"
  }
 },
 "nbformat": 4,
 "nbformat_minor": 4
}
